{
 "cells": [
  {
   "cell_type": "code",
   "execution_count": 1,
   "metadata": {},
   "outputs": [],
   "source": [
    "# Import dependencies\n",
    "import subprocess\n",
    "import json\n",
    "from dotenv import load_dotenv\n",
    "from constants import *\n",
    "from bit import *\n",
    "from web3 import Web3, HTTPProvider\n",
    "from eth_account import Account\n",
    "from bit import Key, PrivateKey, PrivateKeyTestnet\n",
    "from bit.network import NetworkAPI\n",
    "from web3.middleware import geth_poa_middleware\n",
    "from web3.gas_strategies.time_based import medium_gas_price_strategy\n",
    "mnemonic=os.getenv(\"mnemonic\")\n",
    "from constant import *\n"
   ]
  },
  {
   "cell_type": "code",
   "execution_count": 2,
   "metadata": {},
   "outputs": [
    {
     "data": {
      "text/plain": [
       "'btc'"
      ]
     },
     "execution_count": 2,
     "metadata": {},
     "output_type": "execute_result"
    }
   ],
   "source": [
    "#variable\n",
    "BTC \n"
   ]
  },
  {
   "cell_type": "code",
   "execution_count": 3,
   "metadata": {},
   "outputs": [],
   "source": [
    "# Load and set environment variables\n",
    "load_dotenv('mnemonic.env')\n",
    "mnemonic=os.getenv(\"mnemonic\")\n"
   ]
  },
  {
   "cell_type": "code",
   "execution_count": 4,
   "metadata": {},
   "outputs": [],
   "source": [
    "# Create a function called `derive_wallets`\n",
    "def derive_wallets(coin=BTC, mnemonic=mnemonic, depth=3):\n",
    "    command = f'php ./derive -g --mnemonic=\"{mnemonic}\" --cols=all --coin={coin} --numderive={depth} --format=json'\n",
    "    p = subprocess.Popen(command, stdout=subprocess.PIPE, shell=True)\n",
    "    output, err = p.communicate()\n",
    "    p_status = p.wait()\n",
    "    return json.loads(output)\n"
   ]
  },
  {
   "cell_type": "code",
   "execution_count": 5,
   "metadata": {},
   "outputs": [
    {
     "data": {
      "text/plain": [
       "[{'path': \"m/44'/0'/0'/0/0\",\n",
       "  'address': '13u4xvJX62fRAcBR6YF422ru28ZbSSqovc',\n",
       "  'xprv': 'xprvA2TjFFkGdrZ8kFgMdYwd3ZS3xAznAgbmqfZxmpUcu9whqVC8ra7gKWdfB88qLK2XPzcrHi1oftBwjDiEL2AXVkTpGJ6ZTwTodGTCyBfyY2Z',\n",
       "  'xpub': 'xpub6FT5emHAUE7RxjkpjaUdQhNnWCqGa9KdCtVZaCtETVUgiHXHQ7RvsJx92QX118GDBSv8YfjsKpBoFBkJgCFXvs8Td3A6GwnhnT4KfCEav9q',\n",
       "  'privkey': 'L2DNJRV61PusYAnFLR3WnUqNyQ7qzsqns4zPDZ2Rf41BNHER4ETU',\n",
       "  'pubkey': '0347074a701a5e61c21a71ec5aeee06e149f84bd4ef7978cbcfcf20db04cf5d373',\n",
       "  'pubkeyhash': '1fc930cf3827fc94e9aa670e7c128872540f9c1a',\n",
       "  'index': 0},\n",
       " {'path': \"m/44'/0'/0'/0/1\",\n",
       "  'address': '133gPc7zPVTBpJ5ePDkSciCd5rHqWMC3Xs',\n",
       "  'xprv': 'xprvA2TjFFkGdrZ8ookb8SJmLCt8wQDZ6Ptuj4pMz1GR1sicNZstX8qmD7cLfTbVZHehEEKiXLVEBPu6VXzZBjqNiwVpc51t85BaR22rGh5xbxj',\n",
       "  'xpub': 'xpub6FT5emHAUE7S2Hq4ETqmhLpsVS43Vrcm6HjxnPg2aDFbFND34gA1kuvpWiVnuWtBWbM3faDgjPbsEWcWxLqbP3Rrj8198KDaMv3YuqDNVDv',\n",
       "  'privkey': 'L1jtSqnE4874SQyvftU1wBUBD9x8LKwS3M1rmDD1VGBXQoHZxP7t',\n",
       "  'pubkey': '0275eb3122e79b9b74357b091a2380084b5ce6dc88bf3ee1e5c6578c295c00343f',\n",
       "  'pubkeyhash': '1671f6e2d946c3e975eb5316f76c52b1a213b000',\n",
       "  'index': 1},\n",
       " {'path': \"m/44'/0'/0'/0/2\",\n",
       "  'address': '14e8TFHWJFePEyuSGrDd8QQ9VpjpYjwLBs',\n",
       "  'xprv': 'xprvA2TjFFkGdrZ8qLkm5Ju87Mf5y1h6U4LECKPZDTkULTLLD5qeGMuqNuBiFYTgaCdrbVqeVUPw8tomd9zCPuT7AeDqrwAuAEe5pT2bj5ZKyqq',\n",
       "  'xpub': 'xpub6FT5emHAUE7S3pqEBLS8UVbpX3XasX45ZYKA1rA5tnsK5tAnouE5vhWC6pLDoEgGxknUhp6fWreGrRgVjVkLcY22WtR9K6eSAuj12KJWsuP',\n",
       "  'privkey': 'L4pJnCYyRtyU2doGBQkpb26TQETrfi8F6cEPdJej75xrVkK6vpBr',\n",
       "  'pubkey': '0351670eaecd0ffd45808de6dd069541dfcbbce50fff2db130660df796c4713261',\n",
       "  'pubkeyhash': '27edfd2e6ead6cd251101cdb01408d8136a672b0',\n",
       "  'index': 2}]"
      ]
     },
     "execution_count": 5,
     "metadata": {},
     "output_type": "execute_result"
    }
   ],
   "source": [
    "derive_wallets()"
   ]
  },
  {
   "cell_type": "code",
   "execution_count": 6,
   "metadata": {},
   "outputs": [
    {
     "name": "stdout",
     "output_type": "stream",
     "text": [
      "{'eth': [{'path': \"m/44'/60'/0'/0/0\", 'address': '0xBe8B67B3E09f68B8213CD20b3Ae736E724b064E7', 'xprv': 'xprvA3t125c6iAfCLSBhsyXh6UNvG5XAtsjbXcCXfcCzw2SD9Z8TSjpekbcVj1JFAGpz1MZEv9fjr3WLey1mUK5fdexFNFdybGhrePLXFgbCgep', 'xpub': 'xpub6GsMRb8zYYDVYvGAz14hTcKep7MfJLTStq88TzccVMyC2MTbzH8uJPvyaJEsNcryazDZAyHoRqp4q9YVRWPWYN43etKB49DofBxyJFQFfB8', 'privkey': '0x680bd23fb775e0535cd01acdc2377e3e8f3b2a9963f482ad7d5f81f793bd4dcd', 'pubkey': '0363c35a1f3a427b5d8bb7a364ff3ea1174bb7a8238a4171dd4f798d1238a748f2', 'pubkeyhash': '4e2a37dc4586e60b31a6147b1aa89a35fea8f52e', 'index': 0}, {'path': \"m/44'/60'/0'/0/1\", 'address': '0x97306c69A1d68F19205179b5A1dd7511143ED48F', 'xprv': 'xprvA3t125c6iAfCNuir3G7mpyDybjTvyXaPfAkftRwGpaGVE6s54uuPP82TSUxcjxmuQU6i3Rs1EUjFD1MwYhnQX3EmjhSSjuKoyrRmwERhzck', 'xpub': 'xpub6GsMRb8zYYDVbPoK9HenC7Ai9mJRNzJF2PgGgpLtNuoU6uCDcTDdvvLwHjhaDEmNeaHAMNdzasYVKDCSzpBoziqm3HTaUBXDrL27p5bQftX', 'privkey': '0x5c20607fdc7a86774b9385ee9c6eda4bc4fe824c5b65d6f851753d362a5d1908', 'pubkey': '0235f5276fadc9cce247268ad1099db3fd7f46852c2bdf42d1b5144a59867fdc31', 'pubkeyhash': 'bdd6c4c9da60ab4b03ba21b255eba166a8abee1f', 'index': 1}, {'path': \"m/44'/60'/0'/0/2\", 'address': '0xE9DbFc8C201083b78cf14d3d9Badab6a5E8f8C5f', 'xprv': 'xprvA3t125c6iAfCQSWWaWxxCrnBDrft69HuxYZkJGKVMrfMGsKuaYD67dZhZzy9KLrEo2JnCw1s4BJ2C5H8K3w3vWAqiaTHN6LJ8mxr9FApfxU', 'xpub': 'xpub6GsMRb8zYYDVcvaygYVxZziumtWNVc1mKmVM6ej6vCCL9ff485XLfRtBRHCNkMfBZQwhKSRfiexzueEKNPUApep76M5JKVZAqUiZrM9pW5r', 'privkey': '0x311bfaf5ce7252242285adb65c0aec4a61cf5fa62a10901d9d17859cc8ba46df', 'pubkey': '02ced6bda491bd85da71fa173484b24b479ab5c0f2c6e172af758b13319e1823dd', 'pubkeyhash': '1be1d679e92d230f271d81c95dfbd683aad2165d', 'index': 2}], 'btc-test': [{'path': \"m/44'/1'/0'/0/0\", 'address': 'miHGcjy6tLMNFnAunsvzZtAxLxACR5r2Nt', 'xprv': 'tprv8jUz54hSMgWrxkpaw9LGWGsXLDWWrdJDcvWRCyjAEtiycfnGCLJGzZMm18MYcwcjPpJnK3rd8Ui7KDYbGLvajsFZAq9Kcg9RV7MVmCWxzvY', 'xpub': 'tpubDGB2DUjgW4CXrDrNpnzrugXduF2T1xV8CE7CVVmTfAXNTA32pj7sB3ydBEvfPqtjRDWbj3cfz7vJ2u3mpUeEeo4agMA4jTjG9DdjRQhZoFs', 'privkey': 'cRxAoNmvLSJMxAYNa1ejgz22Rn3NanEnKDmzo8D2jcogAsLvZWqo', 'pubkey': '0250f10707416a124ce5c385b1cc1472023ac321c239cb0494d87823d83c333b14', 'pubkeyhash': '1e51d9368f468d4501c1b54ebb86cd35494adccc', 'index': 0}, {'path': \"m/44'/1'/0'/0/1\", 'address': 'mt4Q7zSJWkzXKkwDtLsvNv4hAo2AU84GwD', 'xprv': 'tprv8jUz54hSMgWrzsEtgzwzavPvwjhmENxQpaJD4tdrPYBTCmfwvji5p7seH8z5kFFTfGHiEj4YgaHyBvLCgwDZHSAD9zNdfjqsGXJUWuJcaoZ', 'xpub': 'tpubDGB2DUjgW4CXtLGgaecazL43WmDhPi9KPstzMQg9ooyr3FviZ8XfzcVWTHRDipURxRr1Tb1CMdakjCdgdKyPoQ4RUeC8AnfeZvHJodC3h8j', 'privkey': 'cSNAGeEDwnWunFCfyQFJW6Vf4CHCQJwE3ueRUbB4HHGpsd1LwwZT', 'pubkey': '03528ebc53cff671468d1da59ac06fc38a86a4721e5a9df0234dabacac8a1ca9c0', 'pubkeyhash': '8993f68d9db7efed22c1f7e9aa1c4f820caedc90', 'index': 1}, {'path': \"m/44'/1'/0'/0/2\", 'address': 'mhFRoaNVjQwRghXkrQCfVzmntsqGHFthZG', 'xprv': 'tprv8jUz54hSMgWs5JixUpXk8xZS5K6QPRaZuziVDx659MpRgUfNP7tHLDBPPe4qxiZzbwKFePTu1oy4h71ictVxgXSidENrRRfqJz1d97LRMgL', 'xpub': 'tpubDGB2DUjgW4CXxmkkNUCLYNDYeLcLYkmUVJKGWU8NZdcpWxv91WhsWhoFZmvXgXsQnN9KMK7YoNk8JL6ujwSHLV9GfSgJzrF5G2nHPL9fbFF', 'privkey': 'cSNdGjrZ65wYaYuUrixpoxDLEi3ZjCfLsNCkq6wRLzXdfKcpGU2L', 'pubkey': '0306d6b4901c21a65bd278904c7d39eacebe251408fa3a2c6a55626dc1cada6ec7', 'pubkeyhash': '13008f3ddfc274541e822ddb65bc94abc0087036', 'index': 2}]}\n"
     ]
    }
   ],
   "source": [
    "# Create a dictionary object called coins to store the output from `derive_wallets`.\n",
    "coins = {\n",
    "    ETH: derive_wallets(coin = ETH),\n",
    "    BTCTEST: derive_wallets(coin = BTCTEST),\n",
    "}\n",
    "print(coins)"
   ]
  },
  {
   "cell_type": "code",
   "execution_count": 7,
   "metadata": {},
   "outputs": [
    {
     "name": "stdout",
     "output_type": "stream",
     "text": [
      "0x680bd23fb775e0535cd01acdc2377e3e8f3b2a9963f482ad7d5f81f793bd4dcd\n",
      "cSNAGeEDwnWunFCfyQFJW6Vf4CHCQJwE3ueRUbB4HHGpsd1LwwZT\n"
     ]
    }
   ],
   "source": [
    "# Create a function called `priv_key_to_account` that converts privkey strings to account objects.\n",
    "#CRreates wallet address or private key\n",
    "def priv_key_to_account(coin, priv_key):\n",
    "    if coin == BTCTEST:\n",
    "        return PrivateKeyTestnet(priv_key)\n",
    "    elif coin == ETH:\n",
    "        return Account.privateKeyToAccount(priv_key)\n",
    "    \n",
    "Eth_PrivateKey = coins[\"eth\"][0]['privkey']\n",
    "Btc_PrivateKey = coins['btc-test'][1]['privkey']\n",
    "print(Eth_PrivateKey)\n",
    "print(Btc_PrivateKey)\n"
   ]
  },
  {
   "cell_type": "code",
   "execution_count": 8,
   "metadata": {},
   "outputs": [],
   "source": [
    "# Create a function called `create_tx` that creates an unsigned transaction appropriate metadata.\n",
    "def create_tx(coin,account,to,amount):\n",
    "    if coin == ETH:\n",
    "        value= w3.toWei(amount,\"ether\")\n",
    "        gas_estimate=w3.eth.estimateGas({'to':to,\n",
    "                                        'from':account.address,\n",
    "                                        'amount':value})\n",
    "        gas_price=w3.eth.generateGasPrice()\n",
    "        nonce=w3.eth.getTransactionCount(account.address)\n",
    "        chainID=w3.eth.chain_id\n",
    "        return {\"to\":to,\n",
    "               'from':account.address,\n",
    "               \"value\":value,\n",
    "               \"gas\":gas_estimate,\n",
    "               \"gasPrice\":gas_price,\n",
    "               \"nonce\":nonce,\n",
    "               \"chainID\":chainID}\n",
    "            \n",
    "    if coin == BTCTEST:\n",
    "        return PrivateKeyTestnet.prepare_transaction(account.address, [(to, amount, BTC)])\n",
    "        \n",
    "    \n",
    "            \n"
   ]
  },
  {
   "cell_type": "code",
   "execution_count": 9,
   "metadata": {},
   "outputs": [],
   "source": [
    "# Create a function called `send_tx` that calls `create_tx`, signs and sends the transaction.\n",
    "def send_tx(coin,account,to,amount):\n",
    "    raw_tx = create_tx(coin,account,to,amount)\n",
    "    if coin == ETH:\n",
    "        signedtx=account.signTransaction(raw_tx)\n",
    "        return w3.eth.sendRawTransaction(signedtx.rawTransaction)\n",
    "                \n",
    "                \n",
    "    if coin== BTC:\n",
    "        signedtx=account.sign_transaction(raw_tx)\n",
    "        return NetworkAPI.broadcast_tx_testnet(signedtx)\n",
    "\n",
    "    \n",
    "    \n"
   ]
  },
  {
   "cell_type": "code",
   "execution_count": null,
   "metadata": {},
   "outputs": [],
   "source": []
  }
 ],
 "metadata": {
  "kernelspec": {
   "display_name": "Python 3",
   "language": "python",
   "name": "python3"
  },
  "language_info": {
   "codemirror_mode": {
    "name": "ipython",
    "version": 3
   },
   "file_extension": ".py",
   "mimetype": "text/x-python",
   "name": "python",
   "nbconvert_exporter": "python",
   "pygments_lexer": "ipython3",
   "version": "3.8.5"
  }
 },
 "nbformat": 4,
 "nbformat_minor": 4
}
